{
 "cells": [
  {
   "cell_type": "markdown",
   "metadata": {},
   "source": [
    "The very first thing to do is import the python packages BeautifulSoup, requests, and pandas."
   ]
  },
  {
   "cell_type": "code",
   "execution_count": 11,
   "metadata": {},
   "outputs": [],
   "source": [
    "from bs4 import BeautifulSoup\n",
    "import requests\n",
    "import pandas as pd"
   ]
  },
  {
   "cell_type": "markdown",
   "metadata": {},
   "source": [
    "Gathered table information using an ajax POST call via the requests package"
   ]
  },
  {
   "cell_type": "code",
   "execution_count": 12,
   "metadata": {},
   "outputs": [],
   "source": [
    "url = ('https://www.spotrac.com/nfl/rankings/2020/cash/')\n",
    "data = {\n",
    "   'ajax': 'true',\n",
    "   'mobile' : 'False'\n",
    "}\n",
    "soup = BeautifulSoup(requests.post(url, data=data).content, 'html.parser')"
   ]
  },
  {
   "cell_type": "markdown",
   "metadata": {},
   "source": [
    "Creating a list to attach all the data from the tables to."
   ]
  },
  {
   "cell_type": "code",
   "execution_count": 14,
   "metadata": {},
   "outputs": [],
   "source": [
    "rows_list = list()"
   ]
  },
  {
   "cell_type": "markdown",
   "metadata": {},
   "source": [
    "Using the BeautifulSoup package I collected all the data wanted from the table and appended it to the list from earlier."
   ]
  },
  {
   "cell_type": "code",
   "execution_count": 15,
   "metadata": {},
   "outputs": [],
   "source": [
    "nfl_table = soup.find('table', class_ = 'datatable captracker noborder')\n",
    "for body in nfl_table.find_all('tbody'):\n",
    "    rows = body.find_all('tr')\n",
    "    for row in rows:\n",
    "         pl_name = row.find('a', class_ ='team-name').text.strip()\n",
    "         pl_team_name = row.find('div', class_ = 'rank-position').text.strip()\n",
    "         pl_position = row.find('td', class_ = 'center med').text.strip()\n",
    "         pl_salary = row.find_all('span', class_ = 'info')\n",
    "         for span in pl_salary:\n",
    "            span = span.text.replace('usd','').strip()      \n",
    "         rows_list.append([pl_name,pl_team_name,pl_position,span])"
   ]
  },
  {
   "cell_type": "markdown",
   "metadata": {},
   "source": [
    "Created a dataframe using pandas and the list from earlier and transformed the dataframe to a csv file."
   ]
  },
  {
   "cell_type": "code",
   "execution_count": 16,
   "metadata": {},
   "outputs": [
    {
     "data": {
      "text/html": [
       "<div>\n",
       "<style scoped>\n",
       "    .dataframe tbody tr th:only-of-type {\n",
       "        vertical-align: middle;\n",
       "    }\n",
       "\n",
       "    .dataframe tbody tr th {\n",
       "        vertical-align: top;\n",
       "    }\n",
       "\n",
       "    .dataframe thead th {\n",
       "        text-align: right;\n",
       "    }\n",
       "</style>\n",
       "<table border=\"1\" class=\"dataframe\">\n",
       "  <thead>\n",
       "    <tr style=\"text-align: right;\">\n",
       "      <th></th>\n",
       "      <th>Name</th>\n",
       "      <th>Team</th>\n",
       "      <th>POS</th>\n",
       "      <th>Salary</th>\n",
       "    </tr>\n",
       "  </thead>\n",
       "  <tbody>\n",
       "    <tr>\n",
       "      <th>0</th>\n",
       "      <td>Russell Wilson</td>\n",
       "      <td>SEA</td>\n",
       "      <td>QB</td>\n",
       "      <td>$53,000,000</td>\n",
       "    </tr>\n",
       "    <tr>\n",
       "      <th>1</th>\n",
       "      <td>Joey Bosa</td>\n",
       "      <td>LAC</td>\n",
       "      <td>DE</td>\n",
       "      <td>$43,020,731</td>\n",
       "    </tr>\n",
       "    <tr>\n",
       "      <th>2</th>\n",
       "      <td>Kirk Cousins</td>\n",
       "      <td>MIN</td>\n",
       "      <td>QB</td>\n",
       "      <td>$40,028,856</td>\n",
       "    </tr>\n",
       "    <tr>\n",
       "      <th>3</th>\n",
       "      <td>Carson Wentz</td>\n",
       "      <td>PHI</td>\n",
       "      <td>QB</td>\n",
       "      <td>$39,383,000</td>\n",
       "    </tr>\n",
       "    <tr>\n",
       "      <th>4</th>\n",
       "      <td>Ryan Tannehill</td>\n",
       "      <td>TEN</td>\n",
       "      <td>QB</td>\n",
       "      <td>$37,500,000</td>\n",
       "    </tr>\n",
       "  </tbody>\n",
       "</table>\n",
       "</div>"
      ],
      "text/plain": [
       "             Name Team POS       Salary\n",
       "0  Russell Wilson  SEA  QB  $53,000,000\n",
       "1       Joey Bosa  LAC  DE  $43,020,731\n",
       "2    Kirk Cousins  MIN  QB  $40,028,856\n",
       "3    Carson Wentz  PHI  QB  $39,383,000\n",
       "4  Ryan Tannehill  TEN  QB  $37,500,000"
      ]
     },
     "execution_count": 16,
     "metadata": {},
     "output_type": "execute_result"
    }
   ],
   "source": [
    "df_nfl=pd.DataFrame(rows_list,columns=['Name','Team','POS', 'Salary'])\n",
    "df_nfl.to_csv('NFL 2020 Salary.csv', index=False)\n",
    "nfl_file=pd.read_csv('NFL 2020 Salary.csv')\n",
    "df_nfl.head()"
   ]
  }
 ],
 "metadata": {
  "kernelspec": {
   "display_name": "Python 3.10.2 64-bit",
   "language": "python",
   "name": "python3"
  },
  "language_info": {
   "codemirror_mode": {
    "name": "ipython",
    "version": 3
   },
   "file_extension": ".py",
   "mimetype": "text/x-python",
   "name": "python",
   "nbconvert_exporter": "python",
   "pygments_lexer": "ipython3",
   "version": "3.10.2"
  },
  "orig_nbformat": 4,
  "vscode": {
   "interpreter": {
    "hash": "88d28bfc7eb9c4a2b365ceaf5f4f335dcd0cb22dbe842829c0399eb707f6c21d"
   }
  }
 },
 "nbformat": 4,
 "nbformat_minor": 2
}
