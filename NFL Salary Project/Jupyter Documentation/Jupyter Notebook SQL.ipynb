{
 "cells": [
  {
   "cell_type": "code",
   "execution_count": 1,
   "metadata": {},
   "outputs": [],
   "source": [
    "import mysql.connector\n",
    "import pandas as pd\n",
    "import pandas.io.sql as psql\n",
    "import creds"
   ]
  },
  {
   "cell_type": "code",
   "execution_count": 2,
   "metadata": {},
   "outputs": [],
   "source": [
    "db= mysql.connector.connect(\n",
    "    host=\"localhost\",\n",
    "    user=\"root\",\n",
    "    passwd=creds.passwd,\n",
    "    database=\"nfl salary analysis\"\n",
    ")\n"
   ]
  },
  {
   "cell_type": "code",
   "execution_count": 3,
   "metadata": {},
   "outputs": [],
   "source": [
    "cursor= db.cursor\n",
    "\n"
   ]
  },
  {
   "cell_type": "code",
   "execution_count": 4,
   "metadata": {},
   "outputs": [
    {
     "name": "stderr",
     "output_type": "stream",
     "text": [
      "c:\\Users\\jayso\\AppData\\Local\\Programs\\Python\\Python310\\lib\\site-packages\\pandas\\io\\sql.py:761: UserWarning: pandas only support SQLAlchemy connectable(engine/connection) ordatabase string URI or sqlite3 DBAPI2 connectionother DBAPI2 objects are not tested, please consider using SQLAlchemy\n",
      "  warnings.warn(\n"
     ]
    }
   ],
   "source": [
    "df = pd.read_sql_query((\"\"\"\n",
    "                       select \n",
    "    a.POS AS Position, \n",
    "    CONCAT('$',format(sum(a.salary),'N')) as '2013 Salary',\n",
    "    CONCAT('$',format(b.salary1,'N')) as '2014 Salary',\n",
    "    CONCAT('$',format(c.salary2,'N')) as '2015 Salary',\n",
    "    CONCAT('$',format(d.salary3,'N')) as '2016 Salary',\n",
    "    CONCAT('$',format(e.salary4,'N')) as '2017 Salary',\n",
    "    CONCAT('$',format(f.salary5,'N')) as '2018 Salary',\n",
    "    CONCAT('$',format(g.salary6,'N')) as '2019 Salary',\n",
    "    CONCAT('$',format(h.salary7,'N')) as '2020 Salary',\n",
    "    CONCAT('$',format(i.salary8,'N')) as '2021 Salary',\n",
    "    CONCAT('$',format(j.salary9,'N')) as '2022 Salary'\n",
    "from nfl_2013_salary as a\n",
    "INNER JOIN (SELECT \n",
    "            pos, \n",
    "            sum(salary) as salary1\n",
    "            FROM nfl_2014_salary\n",
    "            GROUP BY POS) AS b\n",
    "on a.POS = b.POS\n",
    "INNER JOIN(SELECT\n",
    "            POS,\n",
    "            SUM(salary) as salary2\n",
    "            FROM nfl_2015_salary\n",
    "            GROUP BY POS) AS C\n",
    "on a.pos = c.pos\n",
    "INNER JOIN(SELECT\n",
    "            POS,\n",
    "            SUM(salary) as salary3\n",
    "            FROM nfl_2016_salary\n",
    "            GROUP BY POS) AS D\n",
    "on a.pos = D.pos\n",
    "INNER JOIN(SELECT\n",
    "            POS,\n",
    "            SUM(salary) as salary4\n",
    "            FROM nfl_2017_salary\n",
    "            GROUP BY POS) AS E\n",
    "on a.pos = E.pos\n",
    "INNER JOIN(SELECT\n",
    "            POS,\n",
    "            SUM(salary) as salary5\n",
    "            FROM nfl_2018_salary\n",
    "            GROUP BY POS) AS F\n",
    "on a.pos = F.pos\n",
    "INNER JOIN(SELECT\n",
    "            POS,\n",
    "            SUM(salary) as salary6\n",
    "            FROM nfl_2019_salary\n",
    "            GROUP BY POS) AS G\n",
    "on a.pos = G.pos\n",
    "INNER JOIN(SELECT\n",
    "            POS,\n",
    "            SUM(salary) as salary7\n",
    "            FROM nfl_2020_salary\n",
    "            GROUP BY POS) AS H\n",
    "on a.pos = H.pos\n",
    "INNER JOIN(SELECT\n",
    "            POS,\n",
    "            SUM(salary) as salary8\n",
    "            FROM nfl_2021_salary\n",
    "            GROUP BY POS) AS I\n",
    "on a.pos = I.pos\n",
    "INNER JOIN(SELECT\n",
    "            POS,\n",
    "            SUM(salary) as salary9\n",
    "            FROM nfl_2022_salary\n",
    "            GROUP BY POS) AS J\n",
    "on a.pos = J.pos\n",
    "GROUP BY a.POS;\n",
    "\n",
    "\n",
    "\n",
    "                        \"\"\")\n",
    "                       \n",
    "                       ,db)"
   ]
  },
  {
   "cell_type": "code",
   "execution_count": 5,
   "metadata": {},
   "outputs": [
    {
     "name": "stdout",
     "output_type": "stream",
     "text": [
      "   Position   2013 Salary   2014 Salary   2015 Salary   2016 Salary  \\\n",
      "0         C  $103,781,382  $117,026,581  $108,444,360  $124,327,440   \n",
      "1        CB  $320,755,125  $362,089,920  $389,724,620  $459,391,725   \n",
      "2        DE  $312,496,015  $334,881,648  $354,691,612  $367,940,425   \n",
      "3        DT  $214,906,840  $234,842,797  $303,581,504  $320,317,810   \n",
      "4        FB   $24,774,506   $23,448,124   $20,800,843   $15,142,654   \n",
      "5        FS   $71,980,090  $139,165,025  $144,419,903  $198,746,642   \n",
      "6         G  $241,313,326  $210,259,540  $227,784,809  $236,342,308   \n",
      "7       ILB  $146,896,411  $185,782,837  $173,527,758  $176,613,517   \n",
      "8         K   $46,045,000   $50,978,841   $55,374,413   $52,738,324   \n",
      "9        LS   $23,609,000   $14,713,458   $21,511,687   $16,678,714   \n",
      "10       LT  $171,469,259  $199,414,268  $195,565,756  $242,378,938   \n",
      "11      OLB  $299,356,960  $305,525,101  $359,902,166  $361,074,231   \n",
      "12        P   $42,068,500   $42,483,729   $44,013,762   $52,694,956   \n",
      "13       QB  $350,055,338  $389,651,141  $474,470,104  $532,245,385   \n",
      "14       RB  $151,261,426  $156,281,763  $179,690,935  $162,954,270   \n",
      "15       RT  $104,213,955   $95,374,409  $116,824,619  $143,253,237   \n",
      "16        S   $46,623,000   $26,207,965    $2,318,688    $6,507,379   \n",
      "17       SS  $112,791,880   $91,705,739  $102,207,378  $104,417,894   \n",
      "18       TE  $149,829,790  $166,792,106  $189,061,805  $222,621,046   \n",
      "19       WR  $351,536,282  $388,564,187  $452,151,994  $429,516,170   \n",
      "\n",
      "     2017 Salary   2018 Salary   2019 Salary   2020 Salary   2021 Salary  \\\n",
      "0   $139,063,355  $193,933,183  $207,472,033  $209,151,206  $178,055,175   \n",
      "1   $460,970,184  $493,619,272  $516,686,895  $605,209,792  $558,243,783   \n",
      "2   $426,841,523  $439,211,072  $555,113,921  $579,334,701  $499,027,662   \n",
      "3   $344,756,809  $380,640,461  $366,359,333  $471,865,295  $413,526,514   \n",
      "4    $19,726,250   $16,455,000   $18,719,525   $24,426,033   $17,287,500   \n",
      "5   $161,555,189  $142,305,141  $179,957,113  $203,638,839  $170,361,085   \n",
      "6   $299,411,143  $340,554,206  $357,969,286  $340,637,777  $292,850,178   \n",
      "7   $163,583,522  $206,550,070  $251,193,127  $313,645,476  $221,036,462   \n",
      "8    $53,575,000   $69,697,546   $76,682,754   $74,260,964   $60,573,968   \n",
      "9    $17,850,000   $18,620,000   $19,672,295    $8,166,580   $14,876,202   \n",
      "10  $229,034,227  $251,708,271  $226,874,498  $402,837,489  $355,574,914   \n",
      "11  $389,741,520  $384,487,788  $347,201,179  $358,727,933  $435,436,730   \n",
      "12   $50,300,000   $43,477,000   $41,193,373   $45,778,329   $47,072,500   \n",
      "13  $508,635,789  $643,233,797  $655,900,992  $705,689,850  $627,291,638   \n",
      "14  $198,510,593  $202,681,173  $156,959,195  $273,084,006  $199,977,475   \n",
      "15  $150,246,375  $144,877,125  $194,660,097  $205,604,236  $239,529,274   \n",
      "16   $27,255,699   $26,944,616   $45,129,989   $25,800,211   $63,575,165   \n",
      "17  $165,948,862  $159,883,332  $138,256,209  $145,296,910  $109,471,424   \n",
      "18  $222,979,963  $230,878,642  $236,526,328  $256,022,665  $287,155,169   \n",
      "19  $522,070,506  $566,373,578  $623,590,472  $619,400,676  $612,929,804   \n",
      "\n",
      "     2022 Salary  \n",
      "0   $188,199,658  \n",
      "1   $632,834,360  \n",
      "2   $520,099,227  \n",
      "3   $465,652,197  \n",
      "4    $28,782,500  \n",
      "5   $136,859,431  \n",
      "6   $312,831,943  \n",
      "7   $165,643,251  \n",
      "8    $88,534,850  \n",
      "9    $10,827,500  \n",
      "10  $286,930,862  \n",
      "11  $468,683,405  \n",
      "12   $40,964,891  \n",
      "13  $717,646,929  \n",
      "14  $217,444,595  \n",
      "15  $149,030,245  \n",
      "16  $203,903,403  \n",
      "17   $85,216,958  \n",
      "18  $283,238,993  \n",
      "19  $885,860,931  \n"
     ]
    }
   ],
   "source": [
    "print(df)"
   ]
  }
 ],
 "metadata": {
  "kernelspec": {
   "display_name": "Python 3.10.2 64-bit",
   "language": "python",
   "name": "python3"
  },
  "language_info": {
   "codemirror_mode": {
    "name": "ipython",
    "version": 3
   },
   "file_extension": ".py",
   "mimetype": "text/x-python",
   "name": "python",
   "nbconvert_exporter": "python",
   "pygments_lexer": "ipython3",
   "version": "3.10.2"
  },
  "orig_nbformat": 4,
  "vscode": {
   "interpreter": {
    "hash": "88d28bfc7eb9c4a2b365ceaf5f4f335dcd0cb22dbe842829c0399eb707f6c21d"
   }
  }
 },
 "nbformat": 4,
 "nbformat_minor": 2
}
