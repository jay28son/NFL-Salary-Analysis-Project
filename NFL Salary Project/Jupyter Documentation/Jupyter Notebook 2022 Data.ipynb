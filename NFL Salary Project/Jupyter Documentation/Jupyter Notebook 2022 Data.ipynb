{
 "cells": [
  {
   "cell_type": "markdown",
   "metadata": {},
   "source": [
    "The very first thing to do is import the python packages BeautifulSoup, requests, and pandas."
   ]
  },
  {
   "cell_type": "code",
   "execution_count": 2,
   "metadata": {},
   "outputs": [],
   "source": [
    "from bs4 import BeautifulSoup\n",
    "import requests\n",
    "import numpy as np\n",
    "import pandas as pd"
   ]
  },
  {
   "cell_type": "markdown",
   "metadata": {},
   "source": []
  },
  {
   "cell_type": "code",
   "execution_count": 3,
   "metadata": {},
   "outputs": [],
   "source": [
    "url = ('https://www.spotrac.com/nfl/rankings/2022/cash/')\n",
    "data = {\n",
    "   'ajax': 'true',\n",
    "   'mobile' : 'False'\n",
    "}\n",
    "soup = BeautifulSoup(requests.post(url, data=data).content, 'html.parser')"
   ]
  },
  {
   "cell_type": "markdown",
   "metadata": {},
   "source": []
  },
  {
   "cell_type": "code",
   "execution_count": 4,
   "metadata": {},
   "outputs": [],
   "source": [
    "rows_list = list()"
   ]
  },
  {
   "cell_type": "markdown",
   "metadata": {},
   "source": []
  },
  {
   "cell_type": "code",
   "execution_count": 5,
   "metadata": {},
   "outputs": [],
   "source": [
    "nfl_table = soup.find('table', class_ = 'datatable captracker noborder')\n",
    "for body in nfl_table.find_all('tbody'):\n",
    "    rows = body.find_all('tr')\n",
    "    for row in rows:\n",
    "         pl_name = row.find('a', class_ ='team-name').text.strip()\n",
    "         pl_team_name = row.find('div', class_ = 'rank-position').text.strip()\n",
    "         pl_position = row.find('td', class_ = 'center med').text.strip()\n",
    "         pl_salary = row.find_all('span', class_ = 'info')\n",
    "         for span in pl_salary:\n",
    "            span = span.text.replace('usd','').strip()      \n",
    "         rows_list.append([pl_name,pl_team_name,pl_position,span])\n"
   ]
  },
  {
   "cell_type": "markdown",
   "metadata": {},
   "source": []
  },
  {
   "cell_type": "code",
   "execution_count": 6,
   "metadata": {},
   "outputs": [
    {
     "data": {
      "text/html": [
       "<div>\n",
       "<style scoped>\n",
       "    .dataframe tbody tr th:only-of-type {\n",
       "        vertical-align: middle;\n",
       "    }\n",
       "\n",
       "    .dataframe tbody tr th {\n",
       "        vertical-align: top;\n",
       "    }\n",
       "\n",
       "    .dataframe thead th {\n",
       "        text-align: right;\n",
       "    }\n",
       "</style>\n",
       "<table border=\"1\" class=\"dataframe\">\n",
       "  <thead>\n",
       "    <tr style=\"text-align: right;\">\n",
       "      <th></th>\n",
       "      <th>Name</th>\n",
       "      <th>Team</th>\n",
       "      <th>POS</th>\n",
       "      <th>Salary</th>\n",
       "    </tr>\n",
       "  </thead>\n",
       "  <tbody>\n",
       "    <tr>\n",
       "      <th>0</th>\n",
       "      <td>Dak Prescott</td>\n",
       "      <td>DAL</td>\n",
       "      <td>QB</td>\n",
       "      <td>$75,000,000</td>\n",
       "    </tr>\n",
       "    <tr>\n",
       "      <th>1</th>\n",
       "      <td>Tom Brady</td>\n",
       "      <td>TB</td>\n",
       "      <td>QB</td>\n",
       "      <td>$39,420,588</td>\n",
       "    </tr>\n",
       "    <tr>\n",
       "      <th>2</th>\n",
       "      <td>T.J. Watt</td>\n",
       "      <td>PIT</td>\n",
       "      <td>OLB</td>\n",
       "      <td>$36,593,470</td>\n",
       "    </tr>\n",
       "    <tr>\n",
       "      <th>3</th>\n",
       "      <td>Trent Williams</td>\n",
       "      <td>SF</td>\n",
       "      <td>LT</td>\n",
       "      <td>$32,311,755</td>\n",
       "    </tr>\n",
       "    <tr>\n",
       "      <th>4</th>\n",
       "      <td>Jonathan Allen</td>\n",
       "      <td>WAS</td>\n",
       "      <td>DT</td>\n",
       "      <td>$31,142,235</td>\n",
       "    </tr>\n",
       "  </tbody>\n",
       "</table>\n",
       "</div>"
      ],
      "text/plain": [
       "             Name Team  POS       Salary\n",
       "0    Dak Prescott  DAL   QB  $75,000,000\n",
       "1       Tom Brady   TB   QB  $39,420,588\n",
       "2       T.J. Watt  PIT  OLB  $36,593,470\n",
       "3  Trent Williams   SF   LT  $32,311,755\n",
       "4  Jonathan Allen  WAS   DT  $31,142,235"
      ]
     },
     "execution_count": 6,
     "metadata": {},
     "output_type": "execute_result"
    }
   ],
   "source": [
    "df_nfl=pd.DataFrame(rows_list,columns=['Name','Team','POS', 'Salary'])\n",
    "df_nfl.to_csv('NFL 2022 Salary.csv', index=False)\n",
    "nfl_file=pd.read_csv('NFL 2022 Salary.csv')\n",
    "df_nfl.head()"
   ]
  }
 ],
 "metadata": {
  "kernelspec": {
   "display_name": "Python 3.10.2 64-bit",
   "language": "python",
   "name": "python3"
  },
  "language_info": {
   "codemirror_mode": {
    "name": "ipython",
    "version": 3
   },
   "file_extension": ".py",
   "mimetype": "text/x-python",
   "name": "python",
   "nbconvert_exporter": "python",
   "pygments_lexer": "ipython3",
   "version": "3.10.2"
  },
  "orig_nbformat": 4,
  "vscode": {
   "interpreter": {
    "hash": "88d28bfc7eb9c4a2b365ceaf5f4f335dcd0cb22dbe842829c0399eb707f6c21d"
   }
  }
 },
 "nbformat": 4,
 "nbformat_minor": 2
}
